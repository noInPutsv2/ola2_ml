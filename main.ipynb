{
 "cells": [
  {
   "cell_type": "code",
   "execution_count": 2,
   "metadata": {},
   "outputs": [
    {
     "name": "stderr",
     "output_type": "stream",
     "text": [
      "/var/folders/5x/pxtthpbn4tl5443t7hljhmph0000gn/T/ipykernel_12397/3999071472.py:3: DeprecationWarning: \n",
      "Pyarrow will become a required dependency of pandas in the next major release of pandas (pandas 3.0),\n",
      "(to allow more performant data types, such as the Arrow string type, and better interoperability with other libraries)\n",
      "but was not found to be installed on your system.\n",
      "If this would cause problems for you,\n",
      "please provide us feedback at https://github.com/pandas-dev/pandas/issues/54466\n",
      "        \n",
      "  import pandas as pd\n"
     ]
    }
   ],
   "source": [
    "# Import libraries\n",
    "import numpy as np\n",
    "import pandas as pd\n",
    "import matplotlib.pyplot as plt\n",
    "from sklearn.preprocessing import OrdinalEncoder\n",
    "from sklearn.preprocessing import MinMaxScaler\n",
    "from sklearn.linear_model import LinearRegression\n",
    "from sklearn import svm\n",
    "from sklearn.linear_model import TweedieRegressor\n"
   ]
  },
  {
   "cell_type": "code",
   "execution_count": 3,
   "metadata": {},
   "outputs": [],
   "source": [
    "# Import datasets\n",
    "df = pd.read_csv(\"Mental Health Dataset.csv\")"
   ]
  },
  {
   "cell_type": "markdown",
   "metadata": {},
   "source": [
    "We would like to use this dataset to gain a better understanding of how different factors can affect a persons mental health. \n",
    "We would also like to gain an overview of general tendencies in different countries. "
   ]
  },
  {
   "cell_type": "code",
   "execution_count": 4,
   "metadata": {},
   "outputs": [],
   "source": [
    "# Removing unnecessary columns \n",
    "df.drop(axis=1, columns=[\"Timestamp\"], inplace=True)"
   ]
  },
  {
   "cell_type": "code",
   "execution_count": 5,
   "metadata": {},
   "outputs": [
    {
     "name": "stdout",
     "output_type": "stream",
     "text": [
      "<class 'pandas.core.frame.DataFrame'>\n",
      "RangeIndex: 292364 entries, 0 to 292363\n",
      "Data columns (total 16 columns):\n",
      " #   Column                   Non-Null Count   Dtype \n",
      "---  ------                   --------------   ----- \n",
      " 0   Gender                   292364 non-null  object\n",
      " 1   Country                  292364 non-null  object\n",
      " 2   Occupation               292364 non-null  object\n",
      " 3   self_employed            287162 non-null  object\n",
      " 4   family_history           292364 non-null  object\n",
      " 5   treatment                292364 non-null  object\n",
      " 6   Days_Indoors             292364 non-null  object\n",
      " 7   Growing_Stress           292364 non-null  object\n",
      " 8   Changes_Habits           292364 non-null  object\n",
      " 9   Mental_Health_History    292364 non-null  object\n",
      " 10  Mood_Swings              292364 non-null  object\n",
      " 11  Coping_Struggles         292364 non-null  object\n",
      " 12  Work_Interest            292364 non-null  object\n",
      " 13  Social_Weakness          292364 non-null  object\n",
      " 14  mental_health_interview  292364 non-null  object\n",
      " 15  care_options             292364 non-null  object\n",
      "dtypes: object(16)\n",
      "memory usage: 35.7+ MB\n"
     ]
    },
    {
     "data": {
      "text/plain": [
       "self_employed\n",
       "No     257994\n",
       "Yes     29168\n",
       "Name: count, dtype: int64"
      ]
     },
     "execution_count": 5,
     "metadata": {},
     "output_type": "execute_result"
    }
   ],
   "source": [
    "# Analyzing null values \n",
    "df.info()\n",
    "df[\"self_employed\"].value_counts()"
   ]
  },
  {
   "cell_type": "code",
   "execution_count": 6,
   "metadata": {},
   "outputs": [
    {
     "name": "stderr",
     "output_type": "stream",
     "text": [
      "/var/folders/5x/pxtthpbn4tl5443t7hljhmph0000gn/T/ipykernel_12397/1167866607.py:2: FutureWarning: A value is trying to be set on a copy of a DataFrame or Series through chained assignment using an inplace method.\n",
      "The behavior will change in pandas 3.0. This inplace method will never work because the intermediate object on which we are setting values always behaves as a copy.\n",
      "\n",
      "For example, when doing 'df[col].method(value, inplace=True)', try using 'df.method({col: value}, inplace=True)' or df[col] = df[col].method(value) instead, to perform the operation inplace on the original object.\n",
      "\n",
      "\n",
      "  df[\"self_employed\"].fillna(\"No\", inplace=True)\n"
     ]
    }
   ],
   "source": [
    "# Replacing null values with \"no\", because it is most likely to be \"no\" \n",
    "df[\"self_employed\"].fillna(\"No\", inplace=True)"
   ]
  },
  {
   "cell_type": "code",
   "execution_count": 7,
   "metadata": {},
   "outputs": [
    {
     "data": {
      "text/html": [
       "<div>\n",
       "<style scoped>\n",
       "    .dataframe tbody tr th:only-of-type {\n",
       "        vertical-align: middle;\n",
       "    }\n",
       "\n",
       "    .dataframe tbody tr th {\n",
       "        vertical-align: top;\n",
       "    }\n",
       "\n",
       "    .dataframe thead th {\n",
       "        text-align: right;\n",
       "    }\n",
       "</style>\n",
       "<table border=\"1\" class=\"dataframe\">\n",
       "  <thead>\n",
       "    <tr style=\"text-align: right;\">\n",
       "      <th></th>\n",
       "      <th>Gender</th>\n",
       "      <th>Country</th>\n",
       "      <th>Occupation</th>\n",
       "      <th>self_employed</th>\n",
       "      <th>family_history</th>\n",
       "      <th>treatment</th>\n",
       "      <th>Days_Indoors</th>\n",
       "      <th>Growing_Stress</th>\n",
       "      <th>Changes_Habits</th>\n",
       "      <th>Mental_Health_History</th>\n",
       "      <th>Mood_Swings</th>\n",
       "      <th>Coping_Struggles</th>\n",
       "      <th>Work_Interest</th>\n",
       "      <th>Social_Weakness</th>\n",
       "      <th>mental_health_interview</th>\n",
       "      <th>care_options</th>\n",
       "    </tr>\n",
       "  </thead>\n",
       "  <tbody>\n",
       "    <tr>\n",
       "      <th>count</th>\n",
       "      <td>292364</td>\n",
       "      <td>292364</td>\n",
       "      <td>292364</td>\n",
       "      <td>292364</td>\n",
       "      <td>292364</td>\n",
       "      <td>292364</td>\n",
       "      <td>292364</td>\n",
       "      <td>292364</td>\n",
       "      <td>292364</td>\n",
       "      <td>292364</td>\n",
       "      <td>292364</td>\n",
       "      <td>292364</td>\n",
       "      <td>292364</td>\n",
       "      <td>292364</td>\n",
       "      <td>292364</td>\n",
       "      <td>292364</td>\n",
       "    </tr>\n",
       "    <tr>\n",
       "      <th>unique</th>\n",
       "      <td>2</td>\n",
       "      <td>35</td>\n",
       "      <td>5</td>\n",
       "      <td>2</td>\n",
       "      <td>2</td>\n",
       "      <td>2</td>\n",
       "      <td>5</td>\n",
       "      <td>3</td>\n",
       "      <td>3</td>\n",
       "      <td>3</td>\n",
       "      <td>3</td>\n",
       "      <td>2</td>\n",
       "      <td>3</td>\n",
       "      <td>3</td>\n",
       "      <td>3</td>\n",
       "      <td>3</td>\n",
       "    </tr>\n",
       "    <tr>\n",
       "      <th>top</th>\n",
       "      <td>Male</td>\n",
       "      <td>United States</td>\n",
       "      <td>Housewife</td>\n",
       "      <td>No</td>\n",
       "      <td>No</td>\n",
       "      <td>Yes</td>\n",
       "      <td>1-14 days</td>\n",
       "      <td>Maybe</td>\n",
       "      <td>Yes</td>\n",
       "      <td>No</td>\n",
       "      <td>Medium</td>\n",
       "      <td>No</td>\n",
       "      <td>No</td>\n",
       "      <td>Maybe</td>\n",
       "      <td>No</td>\n",
       "      <td>No</td>\n",
       "    </tr>\n",
       "    <tr>\n",
       "      <th>freq</th>\n",
       "      <td>239850</td>\n",
       "      <td>171308</td>\n",
       "      <td>66351</td>\n",
       "      <td>263196</td>\n",
       "      <td>176832</td>\n",
       "      <td>147606</td>\n",
       "      <td>63548</td>\n",
       "      <td>99985</td>\n",
       "      <td>109523</td>\n",
       "      <td>104018</td>\n",
       "      <td>101064</td>\n",
       "      <td>154328</td>\n",
       "      <td>105843</td>\n",
       "      <td>103393</td>\n",
       "      <td>232166</td>\n",
       "      <td>118886</td>\n",
       "    </tr>\n",
       "  </tbody>\n",
       "</table>\n",
       "</div>"
      ],
      "text/plain": [
       "        Gender        Country Occupation self_employed family_history  \\\n",
       "count   292364         292364     292364        292364         292364   \n",
       "unique       2             35          5             2              2   \n",
       "top       Male  United States  Housewife            No             No   \n",
       "freq    239850         171308      66351        263196         176832   \n",
       "\n",
       "       treatment Days_Indoors Growing_Stress Changes_Habits  \\\n",
       "count     292364       292364         292364         292364   \n",
       "unique         2            5              3              3   \n",
       "top          Yes    1-14 days          Maybe            Yes   \n",
       "freq      147606        63548          99985         109523   \n",
       "\n",
       "       Mental_Health_History Mood_Swings Coping_Struggles Work_Interest  \\\n",
       "count                 292364      292364           292364        292364   \n",
       "unique                     3           3                2             3   \n",
       "top                       No      Medium               No            No   \n",
       "freq                  104018      101064           154328        105843   \n",
       "\n",
       "       Social_Weakness mental_health_interview care_options  \n",
       "count           292364                  292364       292364  \n",
       "unique               3                       3            3  \n",
       "top              Maybe                      No           No  \n",
       "freq            103393                  232166       118886  "
      ]
     },
     "execution_count": 7,
     "metadata": {},
     "output_type": "execute_result"
    }
   ],
   "source": [
    "# Analyzing the data structure\n",
    "df.describe()"
   ]
  },
  {
   "cell_type": "markdown",
   "metadata": {},
   "source": [
    "Most partipants are men, from USA and are currently in treatment. Most common occupation is house-wife"
   ]
  },
  {
   "cell_type": "code",
   "execution_count": 8,
   "metadata": {},
   "outputs": [],
   "source": [
    "def split_train_test(data, test_ratio):\n",
    "    shuffled_indices = np.random.permutation(len(data))\n",
    "    test_set_size = int(len(data) * test_ratio)\n",
    "    test_indicies = shuffled_indices[:test_set_size]\n",
    "    train_indicies = shuffled_indices[test_set_size:]\n",
    "    return data.iloc[train_indicies], data.iloc[test_indicies]"
   ]
  },
  {
   "cell_type": "code",
   "execution_count": 9,
   "metadata": {},
   "outputs": [
    {
     "data": {
      "image/png": "[encoded data removed]",
      "text/plain": [
       "<Figure size 640x480 with 1 Axes>"
      ]
     },
     "metadata": {},
     "output_type": "display_data"
    }
   ],
   "source": [
    "histPlot = plt.hist(df[\"Country\"], edgecolor='white', bins=35, align=\"left\")\n",
    "plt.xticks(rotation='vertical')\n",
    "plt.show()"
   ]
  },
  {
   "cell_type": "code",
   "execution_count": 10,
   "metadata": {},
   "outputs": [],
   "source": [
    "# Endcoding text to numbers\n",
    "ordinal_encoder = OrdinalEncoder()\n",
    "\n",
    "# Gender\n",
    "df_gender = df[[\"Gender\"]]\n",
    "df_gender_encoded = ordinal_encoder.fit_transform(df_gender)\n",
    "\n",
    "# Country\n",
    "df_country = df[[\"Country\"]]\n",
    "df_country_encoded = ordinal_encoder.fit_transform(df_country)\n",
    "\n",
    "# Occupation\n",
    "df_occupation = df[[\"Occupation\"]]\n",
    "df_occupation_encoded = ordinal_encoder.fit_transform(df_occupation)\n",
    "\n",
    "# Self-employed\n",
    "df_self_employed = df[[\"self_employed\"]]\n",
    "df_self_employed_encoded = ordinal_encoder.fit_transform(df_self_employed)\n",
    "\n",
    "#family history\n",
    "df_family_history = df[[\"family_history\"]]\n",
    "df_family_history_encoded = ordinal_encoder.fit_transform(df_family_history)\n",
    "\n",
    "#treatment\n",
    "df_treatment = df[[\"treatment\"]]\n",
    "df_treatment_encoded = ordinal_encoder.fit_transform(df_treatment)\n",
    "\n",
    "#Days_indoors\n",
    "df_days_indoors = df[[\"Days_Indoors\"]]\n",
    "df_days_indoors_encoded = ordinal_encoder.fit_transform(df_days_indoors)\n",
    "\n",
    "#Growing_stress\n",
    "df_growing_stress = df[[\"Growing_Stress\"]]\n",
    "df_growing_stress_encoded = ordinal_encoder.fit_transform(df_growing_stress)\n",
    "\n",
    "#Changes_Habits\n",
    "df_changes_habits = df[[\"Changes_Habits\"]]\n",
    "df_changes_habits_encoded = ordinal_encoder.fit_transform(df_changes_habits)\n",
    "\n",
    "#Mental_Health_History\n",
    "df_mental_health_history = df[[\"Mental_Health_History\"]]\n",
    "df_mental_health_history_encoded = ordinal_encoder.fit_transform(df_mental_health_history)\n",
    "\n",
    "#Mood_Swings\n",
    "df_mood_swings = df[[\"Mood_Swings\"]]\n",
    "df_mood_swings_encoded = ordinal_encoder.fit_transform(df_mood_swings)\n",
    "\n",
    "#Coping_Struggles\n",
    "df_coping_struggles = df[[\"Coping_Struggles\"]]\n",
    "df_coping_struggles_encoded = ordinal_encoder.fit_transform(df_coping_struggles)\n",
    "\n",
    "#Work_Interest\n",
    "df_work_interest = df[[\"Work_Interest\"]]\n",
    "df_work_interest_encoded = ordinal_encoder.fit_transform(df_work_interest)\n",
    "\n",
    "#Social_Weakness\n",
    "df_social_weakness = df[[\"Social_Weakness\"]]\n",
    "df_social_weakness_encoded = ordinal_encoder.fit_transform(df_social_weakness)\n",
    "\n",
    "#mental_health_interview\n",
    "df_mental_health_interview = df[[\"mental_health_interview\"]]\n",
    "df_mental_health_interview_encoded = ordinal_encoder.fit_transform(df_mental_health_interview)\n",
    "\n",
    "#care_options\n",
    "df_care_options = df[[\"care_options\"]]\n",
    "df_care_options_encoded = ordinal_encoder.fit_transform(df_care_options)\n"
   ]
  },
  {
   "cell_type": "markdown",
   "metadata": {},
   "source": [
    "We are using min-max (Normalisation) on our data, because they don't have Gaussian distribution"
   ]
  },
  {
   "cell_type": "code",
   "execution_count": 11,
   "metadata": {},
   "outputs": [],
   "source": [
    "# Min-max cells \n",
    "scaler = MinMaxScaler()\n",
    "\n",
    "# Country\n",
    "scaler.fit(df_country_encoded)\n",
    "min_max_transformed_country = scaler.transform(df_country_encoded)\n",
    "\n",
    "# Occupation\n",
    "scaler.fit(df_occupation_encoded)\n",
    "min_max_transformed_occupation = scaler.transform(df_occupation_encoded)\n",
    "\n",
    "# Days_Indoors\n",
    "scaler.fit(df_days_indoors_encoded)\n",
    "min_max_transformed_days_indoors = scaler.transform(df_days_indoors_encoded)\n",
    "\n",
    "# Growing_Stress\n",
    "scaler.fit(df_growing_stress_encoded)\n",
    "min_max_transformed_growing_stress = scaler.transform(df_growing_stress_encoded)\n",
    "\n",
    "# Changes_Habits\n",
    "scaler.fit(df_changes_habits_encoded)\n",
    "min_max_transformed_changes_habits = scaler.transform(df_changes_habits_encoded)\n",
    "\n",
    "# Mental_Health_History\n",
    "scaler.fit(df_mental_health_history_encoded)\n",
    "min_max_transformed_mental_health_history = scaler.transform(df_mental_health_history_encoded)\n",
    "\n",
    "# Mood_Swings\n",
    "scaler.fit(df_mood_swings_encoded)\n",
    "min_max_transformed_mood_swings = scaler.transform(df_mood_swings_encoded)\n",
    "\n",
    "# Work_Interest\n",
    "scaler.fit(df_work_interest_encoded)\n",
    "min_max_transformed_work_interest = scaler.transform(df_work_interest_encoded)\n",
    "\n",
    "# Social_Weakness\t\n",
    "scaler.fit(df_social_weakness_encoded)\n",
    "min_max_transformed_social_weakness = scaler.transform(df_social_weakness_encoded)\n",
    "\n",
    "# mental_health_interview\t\n",
    "scaler.fit(df_mental_health_interview_encoded)\n",
    "min_max_transformed_mental_health_interview = scaler.transform(df_mental_health_interview_encoded)\n",
    "\n",
    "# care_options\n",
    "scaler.fit(df_care_options_encoded)\n",
    "min_max_transformed_care_options = scaler.transform(df_care_options_encoded)"
   ]
  },
  {
   "cell_type": "markdown",
   "metadata": {},
   "source": [
    "We considered these 3 different models:\n",
    "- Linear regression\n",
    "- Classification \n",
    "- Logistic regression\n",
    "\n",
    "To solve our problem, we would need to understand the coalation between mental health issues and the factors in the dataset. Therefor classifaction would'nt be as beneficial for the project as the other 2 as it only outputs categories and with Logistic only able to ouput true/false, 1/0 or yes/no we went with Linear regression."
   ]
  },
  {
   "cell_type": "code",
   "execution_count": 12,
   "metadata": {},
   "outputs": [],
   "source": [
    "# Combining our data into one pandas dataframe for creating a scatter matrix\n",
    "nd_array_combined = df_gender_encoded\n",
    "nd_array_combined = np.append(nd_array_combined, min_max_transformed_country, 1)\n",
    "nd_array_combined = np.append(nd_array_combined, min_max_transformed_occupation, 1)\n",
    "nd_array_combined = np.append(nd_array_combined, df_self_employed_encoded, 1)\n",
    "nd_array_combined = np.append(nd_array_combined, df_family_history_encoded, 1)\n",
    "nd_array_combined = np.append(nd_array_combined, df_treatment_encoded, 1)\n",
    "nd_array_combined = np.append(nd_array_combined, min_max_transformed_days_indoors, 1)\n",
    "nd_array_combined = np.append(nd_array_combined, min_max_transformed_growing_stress, 1)\n",
    "nd_array_combined = np.append(nd_array_combined, min_max_transformed_changes_habits, 1)\n",
    "nd_array_combined = np.append(nd_array_combined, min_max_transformed_mental_health_history, 1)\n",
    "nd_array_combined = np.append(nd_array_combined, min_max_transformed_mood_swings, 1)\n",
    "nd_array_combined = np.append(nd_array_combined, df_coping_struggles_encoded, 1)\n",
    "nd_array_combined = np.append(nd_array_combined, min_max_transformed_work_interest, 1)\n",
    "nd_array_combined = np.append(nd_array_combined, min_max_transformed_social_weakness, 1)\n",
    "nd_array_combined = np.append(nd_array_combined, min_max_transformed_mental_health_interview, 1)\n",
    "nd_array_combined = np.append(nd_array_combined, min_max_transformed_care_options, 1)\n",
    "\n",
    "labels = [\"Gender\", \"Country\", \"Occupation\", \"Self_employed\", \"Family_history\", \n",
    "          \"Treatment\", \"Days_indoors\", \"Growing_stress\", \"Changes_habits\", \n",
    "          \"Mental_health_history\", \"Mood_swings\", \"Coping_Struggles\", \"Work_interest\",\n",
    "          \"Social_weakness\", \"Mental_health_interview\", \"Care_options\"]\n",
    "df_combined = pd.DataFrame(nd_array_combined, columns=labels)\n"
   ]
  },
  {
   "cell_type": "code",
   "execution_count": 60,
   "metadata": {},
   "outputs": [
    {
     "ename": "KeyboardInterrupt",
     "evalue": "",
     "output_type": "error",
     "traceback": [
      "\u001b[0;31m---------------------------------------------------------------------------\u001b[0m",
      "\u001b[0;31mKeyboardInterrupt\u001b[0m                         Traceback (most recent call last)",
      "\u001b[0;32m/var/folders/5x/pxtthpbn4tl5443t7hljhmph0000gn/T/ipykernel_30275/3814833165.py\u001b[0m in \u001b[0;36m?\u001b[0;34m()\u001b[0m\n\u001b[1;32m      1\u001b[0m \u001b[0mdf_combined\u001b[0m \u001b[0;34m=\u001b[0m \u001b[0mpd\u001b[0m\u001b[0;34m.\u001b[0m\u001b[0mDataFrame\u001b[0m\u001b[0;34m(\u001b[0m\u001b[0mnd_array_combined\u001b[0m\u001b[0;34m,\u001b[0m \u001b[0mcolumns\u001b[0m\u001b[0;34m=\u001b[0m\u001b[0mlabels\u001b[0m\u001b[0;34m)\u001b[0m\u001b[0;34m\u001b[0m\u001b[0;34m\u001b[0m\u001b[0m\n\u001b[0;32m----> 2\u001b[0;31m \u001b[0mpd\u001b[0m\u001b[0;34m.\u001b[0m\u001b[0mplotting\u001b[0m\u001b[0;34m.\u001b[0m\u001b[0mscatter_matrix\u001b[0m\u001b[0;34m(\u001b[0m\u001b[0mdf_combined\u001b[0m\u001b[0;34m,\u001b[0m \u001b[0mfigsize\u001b[0m\u001b[0;34m=\u001b[0m\u001b[0;34m(\u001b[0m\u001b[0;36m30\u001b[0m\u001b[0;34m,\u001b[0m \u001b[0;36m30\u001b[0m\u001b[0;34m)\u001b[0m\u001b[0;34m)\u001b[0m\u001b[0;34m\u001b[0m\u001b[0;34m\u001b[0m\u001b[0m\n\u001b[0m\u001b[1;32m      3\u001b[0m \u001b[0mplt\u001b[0m\u001b[0;34m.\u001b[0m\u001b[0mshow\u001b[0m\u001b[0;34m(\u001b[0m\u001b[0;34m)\u001b[0m\u001b[0;34m\u001b[0m\u001b[0;34m\u001b[0m\u001b[0m\n",
      "\u001b[0;32m/Library/Frameworks/Python.framework/Versions/3.12/lib/python3.12/site-packages/pandas/plotting/_misc.py\u001b[0m in \u001b[0;36m?\u001b[0;34m(frame, alpha, figsize, ax, grid, diagonal, marker, density_kwds, hist_kwds, range_padding, **kwargs)\u001b[0m\n\u001b[1;32m    216\u001b[0m                 \u001b[0;34m<\u001b[0m\u001b[0mAxes\u001b[0m\u001b[0;34m:\u001b[0m \u001b[0mxlabel\u001b[0m\u001b[0;34m=\u001b[0m\u001b[0;34m'C'\u001b[0m\u001b[0;34m,\u001b[0m \u001b[0mylabel\u001b[0m\u001b[0;34m=\u001b[0m\u001b[0;34m'D'\u001b[0m\u001b[0;34m>\u001b[0m\u001b[0;34m,\u001b[0m \u001b[0;34m<\u001b[0m\u001b[0mAxes\u001b[0m\u001b[0;34m:\u001b[0m \u001b[0mxlabel\u001b[0m\u001b[0;34m=\u001b[0m\u001b[0;34m'D'\u001b[0m\u001b[0;34m,\u001b[0m \u001b[0mylabel\u001b[0m\u001b[0;34m=\u001b[0m\u001b[0;34m'D'\u001b[0m\u001b[0;34m>\u001b[0m\u001b[0;34m]\u001b[0m\u001b[0;34m]\u001b[0m\u001b[0;34m,\u001b[0m\u001b[0;34m\u001b[0m\u001b[0;34m\u001b[0m\u001b[0m\n\u001b[1;32m    217\u001b[0m               \u001b[0mdtype\u001b[0m\u001b[0;34m=\u001b[0m\u001b[0mobject\u001b[0m\u001b[0;34m)\u001b[0m\u001b[0;34m\u001b[0m\u001b[0;34m\u001b[0m\u001b[0m\n\u001b[1;32m    218\u001b[0m     \"\"\"\n\u001b[1;32m    219\u001b[0m     \u001b[0mplot_backend\u001b[0m \u001b[0;34m=\u001b[0m \u001b[0m_get_plot_backend\u001b[0m\u001b[0;34m(\u001b[0m\u001b[0;34m\"matplotlib\"\u001b[0m\u001b[0;34m)\u001b[0m\u001b[0;34m\u001b[0m\u001b[0;34m\u001b[0m\u001b[0m\n\u001b[0;32m--> 220\u001b[0;31m     return plot_backend.scatter_matrix(\n\u001b[0m\u001b[1;32m    221\u001b[0m         \u001b[0mframe\u001b[0m\u001b[0;34m=\u001b[0m\u001b[0mframe\u001b[0m\u001b[0;34m,\u001b[0m\u001b[0;34m\u001b[0m\u001b[0;34m\u001b[0m\u001b[0m\n\u001b[1;32m    222\u001b[0m         \u001b[0malpha\u001b[0m\u001b[0;34m=\u001b[0m\u001b[0malpha\u001b[0m\u001b[0;34m,\u001b[0m\u001b[0;34m\u001b[0m\u001b[0;34m\u001b[0m\u001b[0m\n\u001b[1;32m    223\u001b[0m         \u001b[0mfigsize\u001b[0m\u001b[0;34m=\u001b[0m\u001b[0mfigsize\u001b[0m\u001b[0;34m,\u001b[0m\u001b[0;34m\u001b[0m\u001b[0;34m\u001b[0m\u001b[0m\n",
      "\u001b[0;32m/Library/Frameworks/Python.framework/Versions/3.12/lib/python3.12/site-packages/pandas/plotting/_matplotlib/misc.py\u001b[0m in \u001b[0;36m?\u001b[0;34m(frame, alpha, figsize, ax, grid, diagonal, marker, density_kwds, hist_kwds, range_padding, **kwds)\u001b[0m\n\u001b[1;32m     90\u001b[0m \u001b[0;34m\u001b[0m\u001b[0m\n\u001b[1;32m     91\u001b[0m                 \u001b[0max\u001b[0m\u001b[0;34m.\u001b[0m\u001b[0mset_xlim\u001b[0m\u001b[0;34m(\u001b[0m\u001b[0mboundaries_list\u001b[0m\u001b[0;34m[\u001b[0m\u001b[0mi\u001b[0m\u001b[0;34m]\u001b[0m\u001b[0;34m)\u001b[0m\u001b[0;34m\u001b[0m\u001b[0;34m\u001b[0m\u001b[0m\n\u001b[1;32m     92\u001b[0m \u001b[0;34m\u001b[0m\u001b[0m\n\u001b[1;32m     93\u001b[0m             \u001b[0;32melse\u001b[0m\u001b[0;34m:\u001b[0m\u001b[0;34m\u001b[0m\u001b[0;34m\u001b[0m\u001b[0m\n\u001b[0;32m---> 94\u001b[0;31m                 \u001b[0mcommon\u001b[0m \u001b[0;34m=\u001b[0m \u001b[0;34m(\u001b[0m\u001b[0mmask\u001b[0m\u001b[0;34m[\u001b[0m\u001b[0ma\u001b[0m\u001b[0;34m]\u001b[0m \u001b[0;34m&\u001b[0m \u001b[0mmask\u001b[0m\u001b[0;34m[\u001b[0m\u001b[0mb\u001b[0m\u001b[0;34m]\u001b[0m\u001b[0;34m)\u001b[0m\u001b[0;34m.\u001b[0m\u001b[0mvalues\u001b[0m\u001b[0;34m\u001b[0m\u001b[0;34m\u001b[0m\u001b[0m\n\u001b[0m\u001b[1;32m     95\u001b[0m \u001b[0;34m\u001b[0m\u001b[0m\n\u001b[1;32m     96\u001b[0m                 ax.scatter(\n\u001b[1;32m     97\u001b[0m                     \u001b[0mdf\u001b[0m\u001b[0;34m[\u001b[0m\u001b[0mb\u001b[0m\u001b[0;34m]\u001b[0m\u001b[0;34m[\u001b[0m\u001b[0mcommon\u001b[0m\u001b[0;34m]\u001b[0m\u001b[0;34m,\u001b[0m \u001b[0mdf\u001b[0m\u001b[0;34m[\u001b[0m\u001b[0ma\u001b[0m\u001b[0;34m]\u001b[0m\u001b[0;34m[\u001b[0m\u001b[0mcommon\u001b[0m\u001b[0;34m]\u001b[0m\u001b[0;34m,\u001b[0m \u001b[0mmarker\u001b[0m\u001b[0;34m=\u001b[0m\u001b[0mmarker\u001b[0m\u001b[0;34m,\u001b[0m \u001b[0malpha\u001b[0m\u001b[0;34m=\u001b[0m\u001b[0malpha\u001b[0m\u001b[0;34m,\u001b[0m \u001b[0;34m**\u001b[0m\u001b[0mkwds\u001b[0m\u001b[0;34m\u001b[0m\u001b[0;34m\u001b[0m\u001b[0m\n",
      "\u001b[0;32m/Library/Frameworks/Python.framework/Versions/3.12/lib/python3.12/site-packages/pandas/core/ops/common.py\u001b[0m in \u001b[0;36m?\u001b[0;34m(self, other)\u001b[0m\n\u001b[1;32m     72\u001b[0m                     \u001b[0;32mreturn\u001b[0m \u001b[0mNotImplemented\u001b[0m\u001b[0;34m\u001b[0m\u001b[0;34m\u001b[0m\u001b[0m\n\u001b[1;32m     73\u001b[0m \u001b[0;34m\u001b[0m\u001b[0m\n\u001b[1;32m     74\u001b[0m         \u001b[0mother\u001b[0m \u001b[0;34m=\u001b[0m \u001b[0mitem_from_zerodim\u001b[0m\u001b[0;34m(\u001b[0m\u001b[0mother\u001b[0m\u001b[0;34m)\u001b[0m\u001b[0;34m\u001b[0m\u001b[0;34m\u001b[0m\u001b[0m\n\u001b[1;32m     75\u001b[0m \u001b[0;34m\u001b[0m\u001b[0m\n\u001b[0;32m---> 76\u001b[0;31m         \u001b[0;32mreturn\u001b[0m \u001b[0mmethod\u001b[0m\u001b[0;34m(\u001b[0m\u001b[0mself\u001b[0m\u001b[0;34m,\u001b[0m \u001b[0mother\u001b[0m\u001b[0;34m)\u001b[0m\u001b[0;34m\u001b[0m\u001b[0;34m\u001b[0m\u001b[0m\n\u001b[0m",
      "\u001b[0;32m/Library/Frameworks/Python.framework/Versions/3.12/lib/python3.12/site-packages/pandas/core/arraylike.py\u001b[0m in \u001b[0;36m?\u001b[0;34m(self, other)\u001b[0m\n\u001b[1;32m     68\u001b[0m     \u001b[0;34m@\u001b[0m\u001b[0munpack_zerodim_and_defer\u001b[0m\u001b[0;34m(\u001b[0m\u001b[0;34m\"__and__\"\u001b[0m\u001b[0;34m)\u001b[0m\u001b[0;34m\u001b[0m\u001b[0;34m\u001b[0m\u001b[0m\n\u001b[1;32m     69\u001b[0m     \u001b[0;32mdef\u001b[0m \u001b[0m__and__\u001b[0m\u001b[0;34m(\u001b[0m\u001b[0mself\u001b[0m\u001b[0;34m,\u001b[0m \u001b[0mother\u001b[0m\u001b[0;34m)\u001b[0m\u001b[0;34m:\u001b[0m\u001b[0;34m\u001b[0m\u001b[0;34m\u001b[0m\u001b[0m\n\u001b[0;32m---> 70\u001b[0;31m         \u001b[0;32mreturn\u001b[0m \u001b[0mself\u001b[0m\u001b[0;34m.\u001b[0m\u001b[0m_logical_method\u001b[0m\u001b[0;34m(\u001b[0m\u001b[0mother\u001b[0m\u001b[0;34m,\u001b[0m \u001b[0moperator\u001b[0m\u001b[0;34m.\u001b[0m\u001b[0mand_\u001b[0m\u001b[0;34m)\u001b[0m\u001b[0;34m\u001b[0m\u001b[0;34m\u001b[0m\u001b[0m\n\u001b[0m",
      "\u001b[0;32m/Library/Frameworks/Python.framework/Versions/3.12/lib/python3.12/site-packages/pandas/core/series.py\u001b[0m in \u001b[0;36m?\u001b[0;34m(self, other, op)\u001b[0m\n\u001b[1;32m   6107\u001b[0m         \u001b[0mlvalues\u001b[0m \u001b[0;34m=\u001b[0m \u001b[0mself\u001b[0m\u001b[0;34m.\u001b[0m\u001b[0m_values\u001b[0m\u001b[0;34m\u001b[0m\u001b[0;34m\u001b[0m\u001b[0m\n\u001b[1;32m   6108\u001b[0m         \u001b[0mrvalues\u001b[0m \u001b[0;34m=\u001b[0m \u001b[0mextract_array\u001b[0m\u001b[0;34m(\u001b[0m\u001b[0mother\u001b[0m\u001b[0;34m,\u001b[0m \u001b[0mextract_numpy\u001b[0m\u001b[0;34m=\u001b[0m\u001b[0;32mTrue\u001b[0m\u001b[0;34m,\u001b[0m \u001b[0mextract_range\u001b[0m\u001b[0;34m=\u001b[0m\u001b[0;32mTrue\u001b[0m\u001b[0;34m)\u001b[0m\u001b[0;34m\u001b[0m\u001b[0;34m\u001b[0m\u001b[0m\n\u001b[1;32m   6109\u001b[0m \u001b[0;34m\u001b[0m\u001b[0m\n\u001b[1;32m   6110\u001b[0m         \u001b[0mres_values\u001b[0m \u001b[0;34m=\u001b[0m \u001b[0mops\u001b[0m\u001b[0;34m.\u001b[0m\u001b[0mlogical_op\u001b[0m\u001b[0;34m(\u001b[0m\u001b[0mlvalues\u001b[0m\u001b[0;34m,\u001b[0m \u001b[0mrvalues\u001b[0m\u001b[0;34m,\u001b[0m \u001b[0mop\u001b[0m\u001b[0;34m)\u001b[0m\u001b[0;34m\u001b[0m\u001b[0;34m\u001b[0m\u001b[0m\n\u001b[0;32m-> 6111\u001b[0;31m         \u001b[0;32mreturn\u001b[0m \u001b[0mself\u001b[0m\u001b[0;34m.\u001b[0m\u001b[0m_construct_result\u001b[0m\u001b[0;34m(\u001b[0m\u001b[0mres_values\u001b[0m\u001b[0;34m,\u001b[0m \u001b[0mname\u001b[0m\u001b[0;34m=\u001b[0m\u001b[0mres_name\u001b[0m\u001b[0;34m)\u001b[0m\u001b[0;34m\u001b[0m\u001b[0;34m\u001b[0m\u001b[0m\n\u001b[0m",
      "\u001b[0;32m/Library/Frameworks/Python.framework/Versions/3.12/lib/python3.12/site-packages/pandas/core/series.py\u001b[0m in \u001b[0;36m?\u001b[0;34m(self, result, name)\u001b[0m\n\u001b[1;32m   6207\u001b[0m \u001b[0;34m\u001b[0m\u001b[0m\n\u001b[1;32m   6208\u001b[0m         \u001b[0;31m# TODO: result should always be ArrayLike, but this fails for some\u001b[0m\u001b[0;34m\u001b[0m\u001b[0;34m\u001b[0m\u001b[0m\n\u001b[1;32m   6209\u001b[0m         \u001b[0;31m#  JSONArray tests\u001b[0m\u001b[0;34m\u001b[0m\u001b[0;34m\u001b[0m\u001b[0m\n\u001b[1;32m   6210\u001b[0m         \u001b[0mdtype\u001b[0m \u001b[0;34m=\u001b[0m \u001b[0mgetattr\u001b[0m\u001b[0;34m(\u001b[0m\u001b[0mresult\u001b[0m\u001b[0;34m,\u001b[0m \u001b[0;34m\"dtype\"\u001b[0m\u001b[0;34m,\u001b[0m \u001b[0;32mNone\u001b[0m\u001b[0;34m)\u001b[0m\u001b[0;34m\u001b[0m\u001b[0;34m\u001b[0m\u001b[0m\n\u001b[0;32m-> 6211\u001b[0;31m         \u001b[0mout\u001b[0m \u001b[0;34m=\u001b[0m \u001b[0mself\u001b[0m\u001b[0;34m.\u001b[0m\u001b[0m_constructor\u001b[0m\u001b[0;34m(\u001b[0m\u001b[0mresult\u001b[0m\u001b[0;34m,\u001b[0m \u001b[0mindex\u001b[0m\u001b[0;34m=\u001b[0m\u001b[0mself\u001b[0m\u001b[0;34m.\u001b[0m\u001b[0mindex\u001b[0m\u001b[0;34m,\u001b[0m \u001b[0mdtype\u001b[0m\u001b[0;34m=\u001b[0m\u001b[0mdtype\u001b[0m\u001b[0;34m,\u001b[0m \u001b[0mcopy\u001b[0m\u001b[0;34m=\u001b[0m\u001b[0;32mFalse\u001b[0m\u001b[0;34m)\u001b[0m\u001b[0;34m\u001b[0m\u001b[0;34m\u001b[0m\u001b[0m\n\u001b[0m\u001b[1;32m   6212\u001b[0m         \u001b[0mout\u001b[0m \u001b[0;34m=\u001b[0m \u001b[0mout\u001b[0m\u001b[0;34m.\u001b[0m\u001b[0m__finalize__\u001b[0m\u001b[0;34m(\u001b[0m\u001b[0mself\u001b[0m\u001b[0;34m)\u001b[0m\u001b[0;34m\u001b[0m\u001b[0;34m\u001b[0m\u001b[0m\n\u001b[1;32m   6213\u001b[0m \u001b[0;34m\u001b[0m\u001b[0m\n\u001b[1;32m   6214\u001b[0m         \u001b[0;31m# Set the result's name after __finalize__ is called because __finalize__\u001b[0m\u001b[0;34m\u001b[0m\u001b[0;34m\u001b[0m\u001b[0m\n",
      "\u001b[0;32m/Library/Frameworks/Python.framework/Versions/3.12/lib/python3.12/site-packages/pandas/core/series.py\u001b[0m in \u001b[0;36m?\u001b[0;34m(self, data, index, dtype, name, copy, fastpath)\u001b[0m\n\u001b[1;32m    588\u001b[0m             \u001b[0;32melif\u001b[0m \u001b[0mmanager\u001b[0m \u001b[0;34m==\u001b[0m \u001b[0;34m\"array\"\u001b[0m\u001b[0;34m:\u001b[0m\u001b[0;34m\u001b[0m\u001b[0;34m\u001b[0m\u001b[0m\n\u001b[1;32m    589\u001b[0m                 \u001b[0mdata\u001b[0m \u001b[0;34m=\u001b[0m \u001b[0mSingleArrayManager\u001b[0m\u001b[0;34m.\u001b[0m\u001b[0mfrom_array\u001b[0m\u001b[0;34m(\u001b[0m\u001b[0mdata\u001b[0m\u001b[0;34m,\u001b[0m \u001b[0mindex\u001b[0m\u001b[0;34m)\u001b[0m\u001b[0;34m\u001b[0m\u001b[0;34m\u001b[0m\u001b[0m\n\u001b[1;32m    590\u001b[0m \u001b[0;34m\u001b[0m\u001b[0m\n\u001b[1;32m    591\u001b[0m         \u001b[0mNDFrame\u001b[0m\u001b[0;34m.\u001b[0m\u001b[0m__init__\u001b[0m\u001b[0;34m(\u001b[0m\u001b[0mself\u001b[0m\u001b[0;34m,\u001b[0m \u001b[0mdata\u001b[0m\u001b[0;34m)\u001b[0m\u001b[0;34m\u001b[0m\u001b[0;34m\u001b[0m\u001b[0m\n\u001b[0;32m--> 592\u001b[0;31m         \u001b[0mself\u001b[0m\u001b[0;34m.\u001b[0m\u001b[0mname\u001b[0m \u001b[0;34m=\u001b[0m \u001b[0mname\u001b[0m\u001b[0;34m\u001b[0m\u001b[0;34m\u001b[0m\u001b[0m\n\u001b[0m\u001b[1;32m    593\u001b[0m         \u001b[0mself\u001b[0m\u001b[0;34m.\u001b[0m\u001b[0m_set_axis\u001b[0m\u001b[0;34m(\u001b[0m\u001b[0;36m0\u001b[0m\u001b[0;34m,\u001b[0m \u001b[0mindex\u001b[0m\u001b[0;34m)\u001b[0m\u001b[0;34m\u001b[0m\u001b[0;34m\u001b[0m\u001b[0m\n\u001b[1;32m    594\u001b[0m \u001b[0;34m\u001b[0m\u001b[0m\n\u001b[1;32m    595\u001b[0m         \u001b[0;32mif\u001b[0m \u001b[0moriginal_dtype\u001b[0m \u001b[0;32mis\u001b[0m \u001b[0;32mNone\u001b[0m \u001b[0;32mand\u001b[0m \u001b[0mis_pandas_object\u001b[0m \u001b[0;32mand\u001b[0m \u001b[0mdata_dtype\u001b[0m \u001b[0;34m==\u001b[0m \u001b[0mnp\u001b[0m\u001b[0;34m.\u001b[0m\u001b[0mobject_\u001b[0m\u001b[0;34m:\u001b[0m\u001b[0;34m\u001b[0m\u001b[0;34m\u001b[0m\u001b[0m\n",
      "\u001b[0;32m/Library/Frameworks/Python.framework/Versions/3.12/lib/python3.12/site-packages/pandas/core/generic.py\u001b[0m in \u001b[0;36m?\u001b[0;34m(self, name, value)\u001b[0m\n\u001b[0;32m-> 6295\u001b[0;31m     \u001b[0;34m@\u001b[0m\u001b[0mfinal\u001b[0m\u001b[0;34m\u001b[0m\u001b[0;34m\u001b[0m\u001b[0m\n\u001b[0m\u001b[1;32m   6296\u001b[0m     \u001b[0;32mdef\u001b[0m \u001b[0m__setattr__\u001b[0m\u001b[0;34m(\u001b[0m\u001b[0mself\u001b[0m\u001b[0;34m,\u001b[0m \u001b[0mname\u001b[0m\u001b[0;34m:\u001b[0m \u001b[0mstr\u001b[0m\u001b[0;34m,\u001b[0m \u001b[0mvalue\u001b[0m\u001b[0;34m)\u001b[0m \u001b[0;34m->\u001b[0m \u001b[0;32mNone\u001b[0m\u001b[0;34m:\u001b[0m\u001b[0;34m\u001b[0m\u001b[0;34m\u001b[0m\u001b[0m\n\u001b[1;32m   6297\u001b[0m         \"\"\"\n\u001b[1;32m   6298\u001b[0m         \u001b[0mAfter\u001b[0m \u001b[0mregular\u001b[0m \u001b[0mattribute\u001b[0m \u001b[0maccess\u001b[0m\u001b[0;34m,\u001b[0m \u001b[0;32mtry\u001b[0m \u001b[0msetting\u001b[0m \u001b[0mthe\u001b[0m \u001b[0mname\u001b[0m\u001b[0;34m\u001b[0m\u001b[0;34m\u001b[0m\u001b[0m\n",
      "\u001b[0;31mKeyboardInterrupt\u001b[0m: "
     ]
    }
   ],
   "source": [
    "pd.plotting.scatter_matrix(df_combined, figsize=(30, 30))\n",
    "plt.show()"
   ]
  },
  {
   "cell_type": "code",
   "execution_count": 13,
   "metadata": {},
   "outputs": [],
   "source": [
    "train_set, test_set = split_train_test(df_combined, 0.2)\n",
    "coping_Struggles = train_set[\"Coping_Struggles\"]\n",
    "train_set_copy = train_set.drop(\"Coping_Struggles\", axis=1)\n",
    "test_set_copy = test_set.drop(\"Coping_Struggles\", axis=1)"
   ]
  },
  {
   "cell_type": "code",
   "execution_count": 15,
   "metadata": {},
   "outputs": [
    {
     "data": {
      "text/plain": [
       "0.011185302095955363"
      ]
     },
     "execution_count": 15,
     "metadata": {},
     "output_type": "execute_result"
    }
   ],
   "source": [
    "# Linear regression model\n",
    "lin_reg = LinearRegression()\n",
    "df_cs = pd.DataFrame(coping_Struggles, columns=[\"Coping_Struggles\"])\n",
    "lin_reg.fit(train_set_copy, df_cs)\n",
    "lin_reg.predict(test_set_copy)\n",
    "\n",
    "lin_reg.score(test_set_copy, test_set[\"Coping_Struggles\"])"
   ]
  },
  {
   "cell_type": "code",
   "execution_count": 24,
   "metadata": {},
   "outputs": [
    {
     "name": "stderr",
     "output_type": "stream",
     "text": [
      "/Library/Frameworks/Python.framework/Versions/3.12/lib/python3.12/site-packages/sklearn/utils/validation.py:1300: DataConversionWarning: A column-vector y was passed when a 1d array was expected. Please change the shape of y to (n_samples, ), for example using ravel().\n",
      "  y = column_or_1d(y, warn=True)\n"
     ]
    },
    {
     "data": {
      "text/plain": [
       "0.005298613240626526"
      ]
     },
     "execution_count": 24,
     "metadata": {},
     "output_type": "execute_result"
    }
   ],
   "source": [
    "# Logistic regression model\n",
    "reg = TweedieRegressor(power=1, alpha=0.5, link='identity')\n",
    "reg.fit(train_set_copy, df_cs)\n",
    "reg.score(test_set_copy, test_set[\"Coping_Struggles\"])"
   ]
  },
  {
   "cell_type": "code",
   "execution_count": 25,
   "metadata": {},
   "outputs": [
    {
     "name": "stderr",
     "output_type": "stream",
     "text": [
      "/Library/Frameworks/Python.framework/Versions/3.12/lib/python3.12/site-packages/sklearn/utils/validation.py:1300: DataConversionWarning: A column-vector y was passed when a 1d array was expected. Please change the shape of y to (n_samples, ), for example using ravel().\n",
      "  y = column_or_1d(y, warn=True)\n"
     ]
    }
   ],
   "source": [
    "# Classification model\n",
    "clf = svm.SVC()\n",
    "clf.fit(train_set_copy, df_cs)\n",
    "clf.score(test_set_copy, test_set[\"Coping_Struggles\"])"
   ]
  },
  {
   "cell_type": "markdown",
   "metadata": {},
   "source": [
    "<h4>Hyperparameter</h4>"
   ]
  },
  {
   "cell_type": "markdown",
   "metadata": {},
   "source": [
    "<h4>Overfitting</h4>\n"
   ]
  },
  {
   "cell_type": "markdown",
   "metadata": {},
   "source": [
    "<h4>Measuing of f1 score</h4>"
   ]
  },
  {
   "cell_type": "markdown",
   "metadata": {},
   "source": [
    "<h4>Accurracy, precision and recall</h4>"
   ]
  }
 ],
 "metadata": {
  "kernelspec": {
   "display_name": "Python 3",
   "language": "python",
   "name": "python3"
  },
  "language_info": {
   "codemirror_mode": {
    "name": "ipython",
    "version": 3
   },
   "file_extension": ".py",
   "mimetype": "text/x-python",
   "name": "python",
   "nbconvert_exporter": "python",
   "pygments_lexer": "ipython3",
   "version": "3.12.1"
  }
 },
 "nbformat": 4,
 "nbformat_minor": 2
}
